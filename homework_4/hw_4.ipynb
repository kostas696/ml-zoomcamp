{
 "cells": [
  {
   "cell_type": "markdown",
   "metadata": {},
   "source": [
    "### Imports"
   ]
  },
  {
   "cell_type": "code",
   "execution_count": 42,
   "metadata": {},
   "outputs": [],
   "source": [
    "import pandas as pd\n",
    "import zipfile\n",
    "import numpy as np\n",
    "import matplotlib.pyplot as plt\n",
    "\n",
    "from sklearn.metrics import precision_score, recall_score\n",
    "from sklearn.model_selection import train_test_split\n",
    "from sklearn.metrics import roc_auc_score\n",
    "from sklearn.feature_extraction import DictVectorizer\n",
    "from sklearn.linear_model import LogisticRegression\n",
    "from sklearn.model_selection import KFold"
   ]
  },
  {
   "cell_type": "code",
   "execution_count": 10,
   "metadata": {},
   "outputs": [
    {
     "name": "stderr",
     "output_type": "stream",
     "text": [
      "--2024-10-20 11:58:14--  https://archive.ics.uci.edu/static/public/222/bank+marketing.zip\n",
      "Resolving archive.ics.uci.edu (archive.ics.uci.edu)... 128.195.10.252\n",
      "Connecting to archive.ics.uci.edu (archive.ics.uci.edu)|128.195.10.252|:443... connected.\n",
      "HTTP request sent, awaiting response... 200 OK\n",
      "Length: unspecified\n",
      "Saving to: 'bank+marketing.zip.2'\n",
      "\n",
      "     0K .......... .......... .......... .......... ..........  126K\n",
      "    50K .......... .......... .......... .......... ..........  261K\n",
      "   100K .......... .......... .......... .......... .......... 7.22M\n",
      "   150K .......... .......... .......... .......... ..........  381K\n",
      "   200K .......... .......... .......... .......... ..........  605K\n",
      "   250K .......... .......... .......... .......... .......... 4.54M\n",
      "   300K .......... .......... .......... .......... ..........  279K\n",
      "   350K .......... .......... .......... .......... .......... 5.42M\n",
      "   400K .......... .......... .......... .......... .......... 1.33M\n",
      "   450K .......... .......... .......... .......... ..........  325K\n",
      "   500K .......... .......... .......... .......... .......... 6.47M\n",
      "   550K .......... .......... .......... .......... .......... 8.43M\n",
      "   600K .......... .......... .......... .......... .......... 12.7M\n",
      "   650K .......... .......... .......... .......... ..........  463K\n",
      "   700K .......... .......... .......... .......... ..........  110K\n",
      "   750K .......... .......... .......... .......... .......... 30.0M\n",
      "   800K .......... .......... .......... .......... .......... 32.4M\n",
      "   850K .......... .......... .......... .......... .......... 29.3M\n",
      "   900K .......... .......... .......... .......... .......... 30.2M\n",
      "   950K .......... .......... .......... .......... .........   389K=1.9s\n",
      "\n",
      "2024-10-20 11:58:18 (523 KB/s) - 'bank+marketing.zip.2' saved [1023843]\n",
      "\n"
     ]
    }
   ],
   "source": [
    "# Download the dataset from UCI\n",
    "!wget https://archive.ics.uci.edu/static/public/222/bank+marketing.zip"
   ]
  },
  {
   "cell_type": "code",
   "execution_count": 22,
   "metadata": {},
   "outputs": [
    {
     "name": "stdout",
     "output_type": "stream",
     "text": [
      "['bank-full.csv', 'bank-names.txt', 'bank.csv']\n"
     ]
    },
    {
     "data": {
      "text/html": [
       "<div>\n",
       "<style scoped>\n",
       "    .dataframe tbody tr th:only-of-type {\n",
       "        vertical-align: middle;\n",
       "    }\n",
       "\n",
       "    .dataframe tbody tr th {\n",
       "        vertical-align: top;\n",
       "    }\n",
       "\n",
       "    .dataframe thead th {\n",
       "        text-align: right;\n",
       "    }\n",
       "</style>\n",
       "<table border=\"1\" class=\"dataframe\">\n",
       "  <thead>\n",
       "    <tr style=\"text-align: right;\">\n",
       "      <th></th>\n",
       "      <th>age</th>\n",
       "      <th>job</th>\n",
       "      <th>marital</th>\n",
       "      <th>education</th>\n",
       "      <th>default</th>\n",
       "      <th>balance</th>\n",
       "      <th>housing</th>\n",
       "      <th>loan</th>\n",
       "      <th>contact</th>\n",
       "      <th>day</th>\n",
       "      <th>month</th>\n",
       "      <th>duration</th>\n",
       "      <th>campaign</th>\n",
       "      <th>pdays</th>\n",
       "      <th>previous</th>\n",
       "      <th>poutcome</th>\n",
       "      <th>y</th>\n",
       "    </tr>\n",
       "  </thead>\n",
       "  <tbody>\n",
       "    <tr>\n",
       "      <th>0</th>\n",
       "      <td>58</td>\n",
       "      <td>management</td>\n",
       "      <td>married</td>\n",
       "      <td>tertiary</td>\n",
       "      <td>no</td>\n",
       "      <td>2143</td>\n",
       "      <td>yes</td>\n",
       "      <td>no</td>\n",
       "      <td>unknown</td>\n",
       "      <td>5</td>\n",
       "      <td>may</td>\n",
       "      <td>261</td>\n",
       "      <td>1</td>\n",
       "      <td>-1</td>\n",
       "      <td>0</td>\n",
       "      <td>unknown</td>\n",
       "      <td>no</td>\n",
       "    </tr>\n",
       "    <tr>\n",
       "      <th>1</th>\n",
       "      <td>44</td>\n",
       "      <td>technician</td>\n",
       "      <td>single</td>\n",
       "      <td>secondary</td>\n",
       "      <td>no</td>\n",
       "      <td>29</td>\n",
       "      <td>yes</td>\n",
       "      <td>no</td>\n",
       "      <td>unknown</td>\n",
       "      <td>5</td>\n",
       "      <td>may</td>\n",
       "      <td>151</td>\n",
       "      <td>1</td>\n",
       "      <td>-1</td>\n",
       "      <td>0</td>\n",
       "      <td>unknown</td>\n",
       "      <td>no</td>\n",
       "    </tr>\n",
       "    <tr>\n",
       "      <th>2</th>\n",
       "      <td>33</td>\n",
       "      <td>entrepreneur</td>\n",
       "      <td>married</td>\n",
       "      <td>secondary</td>\n",
       "      <td>no</td>\n",
       "      <td>2</td>\n",
       "      <td>yes</td>\n",
       "      <td>yes</td>\n",
       "      <td>unknown</td>\n",
       "      <td>5</td>\n",
       "      <td>may</td>\n",
       "      <td>76</td>\n",
       "      <td>1</td>\n",
       "      <td>-1</td>\n",
       "      <td>0</td>\n",
       "      <td>unknown</td>\n",
       "      <td>no</td>\n",
       "    </tr>\n",
       "    <tr>\n",
       "      <th>3</th>\n",
       "      <td>47</td>\n",
       "      <td>blue-collar</td>\n",
       "      <td>married</td>\n",
       "      <td>unknown</td>\n",
       "      <td>no</td>\n",
       "      <td>1506</td>\n",
       "      <td>yes</td>\n",
       "      <td>no</td>\n",
       "      <td>unknown</td>\n",
       "      <td>5</td>\n",
       "      <td>may</td>\n",
       "      <td>92</td>\n",
       "      <td>1</td>\n",
       "      <td>-1</td>\n",
       "      <td>0</td>\n",
       "      <td>unknown</td>\n",
       "      <td>no</td>\n",
       "    </tr>\n",
       "    <tr>\n",
       "      <th>4</th>\n",
       "      <td>33</td>\n",
       "      <td>unknown</td>\n",
       "      <td>single</td>\n",
       "      <td>unknown</td>\n",
       "      <td>no</td>\n",
       "      <td>1</td>\n",
       "      <td>no</td>\n",
       "      <td>no</td>\n",
       "      <td>unknown</td>\n",
       "      <td>5</td>\n",
       "      <td>may</td>\n",
       "      <td>198</td>\n",
       "      <td>1</td>\n",
       "      <td>-1</td>\n",
       "      <td>0</td>\n",
       "      <td>unknown</td>\n",
       "      <td>no</td>\n",
       "    </tr>\n",
       "  </tbody>\n",
       "</table>\n",
       "</div>"
      ],
      "text/plain": [
       "   age           job  marital  education default  balance housing loan  \\\n",
       "0   58    management  married   tertiary      no     2143     yes   no   \n",
       "1   44    technician   single  secondary      no       29     yes   no   \n",
       "2   33  entrepreneur  married  secondary      no        2     yes  yes   \n",
       "3   47   blue-collar  married    unknown      no     1506     yes   no   \n",
       "4   33       unknown   single    unknown      no        1      no   no   \n",
       "\n",
       "   contact  day month  duration  campaign  pdays  previous poutcome   y  \n",
       "0  unknown    5   may       261         1     -1         0  unknown  no  \n",
       "1  unknown    5   may       151         1     -1         0  unknown  no  \n",
       "2  unknown    5   may        76         1     -1         0  unknown  no  \n",
       "3  unknown    5   may        92         1     -1         0  unknown  no  \n",
       "4  unknown    5   may       198         1     -1         0  unknown  no  "
      ]
     },
     "execution_count": 22,
     "metadata": {},
     "output_type": "execute_result"
    }
   ],
   "source": [
    "# Unzip the outer zip file\n",
    "with zipfile.ZipFile('bank+marketing.zip', 'r') as outer_zip:\n",
    "    # Extract 'bank-additional.zip' from the outer zip file\n",
    "    with outer_zip.open('bank.zip') as inner_zip_file:\n",
    "        with zipfile.ZipFile(inner_zip_file) as inner_zip:\n",
    "            # List files in the inner zip to identify the correct CSV path\n",
    "            print(inner_zip.namelist())\n",
    "\n",
    "            # After reviewing the structure, adjust the path to the CSV file\n",
    "            df = pd.read_csv(inner_zip.open('bank-full.csv'), sep=';')\n",
    "\n",
    "# Display the first few rows of the dataframe\n",
    "df.head()"
   ]
  },
  {
   "cell_type": "markdown",
   "metadata": {},
   "source": [
    "### Dataset preparation"
   ]
  },
  {
   "cell_type": "code",
   "execution_count": 24,
   "metadata": {},
   "outputs": [
    {
     "name": "stdout",
     "output_type": "stream",
     "text": [
      "Train size: 27126\n",
      "Validation size: 9042\n",
      "Test size: 9043\n"
     ]
    }
   ],
   "source": [
    "# List of columns to keep\n",
    "columns_needed = [\n",
    "    'age', 'job', 'marital', 'education', 'balance', 'housing', 'contact', \n",
    "    'day', 'month', 'duration', 'campaign', 'pdays', 'previous', 'poutcome', 'y'\n",
    "]\n",
    "\n",
    "# Filter df with the specified columns\n",
    "df_filtered = df[columns_needed]\n",
    "\n",
    "# Split the data into 60% train and 40% temp (validation + test)\n",
    "df_train, df_temp = train_test_split(df_filtered, test_size=0.4, random_state=1)\n",
    "\n",
    "# Now split the temp set into 50% validation and 50% test (which will be 20% each of the original dataset)\n",
    "df_val, df_test = train_test_split(df_temp, test_size=0.5, random_state=1)\n",
    "\n",
    "# Output the sizes of the splits to verify\n",
    "print(f\"Train size: {len(df_train)}\")\n",
    "print(f\"Validation size: {len(df_val)}\")\n",
    "print(f\"Test size: {len(df_test)}\")"
   ]
  },
  {
   "cell_type": "markdown",
   "metadata": {},
   "source": [
    "## Question 1"
   ]
  },
  {
   "cell_type": "code",
   "execution_count": 27,
   "metadata": {},
   "outputs": [
    {
     "name": "stdout",
     "output_type": "stream",
     "text": [
      "AUC for balance: 0.5916931412945473\n",
      "AUC for day: 0.5291275984648961\n",
      "AUC for duration: 0.8128648066681694\n",
      "AUC for previous: 0.5986704105715122\n",
      "\n",
      "The numerical variable with the highest AUC is: duration\n"
     ]
    }
   ],
   "source": [
    "# Numerical variables to evaluate\n",
    "numerical_vars = ['balance', 'day', 'duration', 'previous']\n",
    "\n",
    "# Dictionary to store the AUCs\n",
    "auc_scores = {}\n",
    "\n",
    "# Iterate over each numerical variable\n",
    "for var in numerical_vars:\n",
    "    # Compute AUC\n",
    "    auc = roc_auc_score(df_train['y'].apply(lambda x: 1 if x == 'yes' else 0), df_train[var])\n",
    "    \n",
    "    # If AUC is below 0.5, negate the variable\n",
    "    if auc < 0.5:\n",
    "        auc = roc_auc_score(df_train['y'].apply(lambda x: 1 if x == 'yes' else 0), -df_train[var])\n",
    "    \n",
    "    # Store the AUC in the dictionary\n",
    "    auc_scores[var] = auc\n",
    "    print(f\"AUC for {var}: {auc}\")\n",
    "\n",
    "# Find the variable with the highest AUC\n",
    "highest_auc_var = max(auc_scores, key=auc_scores.get)\n",
    "print(f\"\\nThe numerical variable with the highest AUC is: {highest_auc_var}\")"
   ]
  },
  {
   "cell_type": "markdown",
   "metadata": {},
   "source": [
    "## Question 2"
   ]
  },
  {
   "cell_type": "code",
   "execution_count": 29,
   "metadata": {},
   "outputs": [],
   "source": [
    "# Prepare categorical and numerical features\n",
    "categorical = ['job', 'marital', 'education', 'housing', 'contact', 'month', 'poutcome']\n",
    "numerical = ['age', 'balance', 'day', 'duration', 'campaign', 'pdays', 'previous']\n",
    "\n",
    "# One-hot encode categorical variables using DictVectorizer\n",
    "dv = DictVectorizer(sparse=False)\n",
    "\n",
    "# Convert training data to a list of dictionaries\n",
    "train_dict = df_train[categorical + numerical].to_dict(orient='records')\n",
    "val_dict = df_val[categorical + numerical].to_dict(orient='records')"
   ]
  },
  {
   "cell_type": "code",
   "execution_count": 30,
   "metadata": {},
   "outputs": [
    {
     "name": "stdout",
     "output_type": "stream",
     "text": [
      "AUC on validation set: 0.900\n"
     ]
    }
   ],
   "source": [
    "# Fit DictVectorizer on training data and transform both train and validation sets\n",
    "X_train = dv.fit_transform(train_dict)\n",
    "X_val = dv.transform(val_dict)\n",
    "\n",
    "# Target variable\n",
    "y_train = df_train['y'].apply(lambda x: 1 if x == 'yes' else 0)\n",
    "y_val = df_val['y'].apply(lambda x: 1 if x == 'yes' else 0)\n",
    "\n",
    "# Train the logistic regression model\n",
    "model = LogisticRegression(solver='liblinear', C=1.0, max_iter=1000)\n",
    "model.fit(X_train, y_train)\n",
    "\n",
    "# Make predictions on the validation set\n",
    "y_pred = model.predict_proba(X_val)[:, 1]\n",
    "\n",
    "# Calculate the AUC on the validation set\n",
    "auc = roc_auc_score(y_val, y_pred)\n",
    "\n",
    "# Output the AUC rounded to 3 digits\n",
    "print(f\"AUC on validation set: {auc:.3f}\")"
   ]
  },
  {
   "cell_type": "markdown",
   "metadata": {},
   "source": [
    "## Question 3"
   ]
  },
  {
   "cell_type": "code",
   "execution_count": 32,
   "metadata": {},
   "outputs": [],
   "source": [
    "# Define thresholds from 0.0 to 1.0 using np.linspace\n",
    "thresholds = np.linspace(0.0, 1.0, 101)"
   ]
  },
  {
   "cell_type": "code",
   "execution_count": 37,
   "metadata": {},
   "outputs": [],
   "source": [
    "# Initialize lists to store precision and recall values\n",
    "precisions = []\n",
    "recalls = []\n",
    "\n",
    "# Calculate precision and recall for each threshold\n",
    "for threshold in thresholds:\n",
    "    # Convert probabilities into binary predictions based on the threshold\n",
    "    y_pred_thresholded = (y_pred >= threshold).astype(int)\n",
    "    \n",
    "    # Calculate precision and recall\n",
    "    precision = precision_score(y_val, y_pred_thresholded, zero_division=1)\n",
    "    recall = recall_score(y_val, y_pred_thresholded)\n",
    "    \n",
    "    precisions.append(precision)\n",
    "    recalls.append(recall)"
   ]
  },
  {
   "cell_type": "code",
   "execution_count": 38,
   "metadata": {},
   "outputs": [
    {
     "data": {
      "image/png": "[encoded data removed]",
      "text/plain": [
       "<Figure size 1000x600 with 1 Axes>"
      ]
     },
     "metadata": {},
     "output_type": "display_data"
    }
   ],
   "source": [
    "# Plot precision and recall against thresholds\n",
    "plt.figure(figsize=(10, 6))\n",
    "plt.plot(thresholds, precisions, label='Precision', color='b')\n",
    "plt.plot(thresholds, recalls, label='Recall', color='g')\n",
    "plt.xlabel('Threshold')\n",
    "plt.ylabel('Score')\n",
    "plt.title('Precision and Recall vs Threshold')\n",
    "plt.legend(loc='best')\n",
    "plt.show()"
   ]
  },
  {
   "cell_type": "markdown",
   "metadata": {},
   "source": [
    "We can see the intersection of the two lines happens between 0.2 and 0.3 thresholds."
   ]
  },
  {
   "cell_type": "markdown",
   "metadata": {},
   "source": [
    "## Question 4"
   ]
  },
  {
   "cell_type": "code",
   "execution_count": 39,
   "metadata": {},
   "outputs": [
    {
     "data": {
      "image/png": "[encoded data removed]",
      "text/plain": [
       "<Figure size 1000x600 with 1 Axes>"
      ]
     },
     "metadata": {},
     "output_type": "display_data"
    }
   ],
   "source": [
    "# Initialize list to store F1 scores\n",
    "f1_scores = []\n",
    "\n",
    "# Calculate F1 score for each threshold\n",
    "for precision, recall in zip(precisions, recalls):\n",
    "    if precision + recall > 0:\n",
    "        f1 = 2 * (precision * recall) / (precision + recall)\n",
    "    else:\n",
    "        f1 = 0\n",
    "    f1_scores.append(f1)\n",
    "\n",
    "# Plot F1 score against thresholds\n",
    "plt.figure(figsize=(10, 6))\n",
    "plt.plot(thresholds, f1_scores, label='F1 Score', color='purple')\n",
    "plt.xlabel('Threshold')\n",
    "plt.ylabel('F1 Score')\n",
    "plt.title('F1 Score vs Threshold')\n",
    "plt.legend(loc='best')\n",
    "plt.show()"
   ]
  },
  {
   "cell_type": "code",
   "execution_count": 40,
   "metadata": {},
   "outputs": [
    {
     "name": "stdout",
     "output_type": "stream",
     "text": [
      "Threshold with the highest F1 score: 0.20\n",
      "Maximum F1 score: 0.579\n"
     ]
    }
   ],
   "source": [
    "# Find the threshold where F1 is maximal\n",
    "max_f1 = max(f1_scores)\n",
    "best_threshold = thresholds[np.argmax(f1_scores)]\n",
    "\n",
    "print(f\"Threshold with the highest F1 score: {best_threshold:.2f}\")\n",
    "print(f\"Maximum F1 score: {max_f1:.3f}\")"
   ]
  },
  {
   "cell_type": "markdown",
   "metadata": {},
   "source": [
    "## Question 5"
   ]
  },
  {
   "cell_type": "code",
   "execution_count": 43,
   "metadata": {},
   "outputs": [],
   "source": [
    "# Full training dataset\n",
    "df_full_train = pd.concat([df_train, df_val])\n",
    "\n",
    "# Target variable\n",
    "y_full = df_full_train['y'].apply(lambda x: 1 if x == 'yes' else 0)\n",
    "\n",
    "# KFold cross-validation\n",
    "kf = KFold(n_splits=5, shuffle=True, random_state=1)"
   ]
  },
  {
   "cell_type": "code",
   "execution_count": 44,
   "metadata": {},
   "outputs": [
    {
     "name": "stdout",
     "output_type": "stream",
     "text": [
      "AUC scores for each fold: [0.9045149038971269, 0.9022377945369395, 0.9094985697047692, 0.9135177280177769, 0.9009110105580693]\n",
      "Standard deviation of AUC scores: 0.004710\n"
     ]
    }
   ],
   "source": [
    "# Initialize list to store AUC scores\n",
    "auc_scores = []\n",
    "\n",
    "# Iterate over each fold\n",
    "for train_index, val_index in kf.split(df_full_train):\n",
    "    # Split into training and validation based on the fold indices\n",
    "    df_train_fold = df_full_train.iloc[train_index]\n",
    "    df_val_fold = df_full_train.iloc[val_index]\n",
    "\n",
    "    # Prepare features\n",
    "    train_dict = df_train_fold[categorical + numerical].to_dict(orient='records')\n",
    "    val_dict = df_val_fold[categorical + numerical].to_dict(orient='records')\n",
    "\n",
    "    dv = DictVectorizer(sparse=False)\n",
    "    X_train_fold = dv.fit_transform(train_dict)\n",
    "    X_val_fold = dv.transform(val_dict)\n",
    "\n",
    "    y_train_fold = y_full.iloc[train_index]\n",
    "    y_val_fold = y_full.iloc[val_index]\n",
    "\n",
    "    # Train the model\n",
    "    model = LogisticRegression(solver='liblinear', C=1.0, max_iter=1000)\n",
    "    model.fit(X_train_fold, y_train_fold)\n",
    "\n",
    "    # Predict probabilities on the validation fold\n",
    "    y_pred_fold = model.predict_proba(X_val_fold)[:, 1]\n",
    "\n",
    "    # Calculate AUC for the current fold\n",
    "    auc = roc_auc_score(y_val_fold, y_pred_fold)\n",
    "    auc_scores.append(auc)\n",
    "\n",
    "# Calculate standard deviation of the AUC scores\n",
    "std_auc = np.std(auc_scores)\n",
    "\n",
    "print(f\"AUC scores for each fold: {auc_scores}\")\n",
    "print(f\"Standard deviation of AUC scores: {std_auc:.6f}\")"
   ]
  },
  {
   "cell_type": "markdown",
   "metadata": {},
   "source": [
    "## Question 6"
   ]
  },
  {
   "cell_type": "code",
   "execution_count": 45,
   "metadata": {},
   "outputs": [],
   "source": [
    "# Hyperparameter values for C\n",
    "C_values = [0.000001, 0.001, 1]\n",
    "\n",
    "# Initialize KFold cross-validation\n",
    "kf = KFold(n_splits=5, shuffle=True, random_state=1)\n",
    "\n",
    "# Store the mean and std for each C\n",
    "results = []\n",
    "\n",
    "# Iterate over the different C values\n",
    "for C in C_values:\n",
    "    auc_scores = []\n",
    "    \n",
    "    # Iterate over each fold in KFold\n",
    "    for train_index, val_index in kf.split(df_full_train):\n",
    "        df_train_fold = df_full_train.iloc[train_index]\n",
    "        df_val_fold = df_full_train.iloc[val_index]\n",
    "\n",
    "        # Prepare features\n",
    "        train_dict = df_train_fold[categorical + numerical].to_dict(orient='records')\n",
    "        val_dict = df_val_fold[categorical + numerical].to_dict(orient='records')\n",
    "\n",
    "        dv = DictVectorizer(sparse=False)\n",
    "        X_train_fold = dv.fit_transform(train_dict)\n",
    "        X_val_fold = dv.transform(val_dict)\n",
    "\n",
    "        y_train_fold = y_full.iloc[train_index]\n",
    "        y_val_fold = y_full.iloc[val_index]\n",
    "\n",
    "        # Train the logistic regression model\n",
    "        model = LogisticRegression(solver='liblinear', C=C, max_iter=1000)\n",
    "        model.fit(X_train_fold, y_train_fold)\n",
    "\n",
    "        # Predict probabilities on the validation fold\n",
    "        y_pred_fold = model.predict_proba(X_val_fold)[:, 1]\n",
    "\n",
    "        # Calculate AUC\n",
    "        auc = roc_auc_score(y_val_fold, y_pred_fold)\n",
    "        auc_scores.append(auc)\n",
    "    \n",
    "    # Compute mean and std of the AUC scores for this value of C\n",
    "    mean_auc = np.mean(auc_scores)\n",
    "    std_auc = np.std(auc_scores)\n",
    "    \n",
    "    # Store the results\n",
    "    results.append((C, mean_auc, std_auc))"
   ]
  },
  {
   "cell_type": "code",
   "execution_count": 47,
   "metadata": {},
   "outputs": [
    {
     "name": "stdout",
     "output_type": "stream",
     "text": [
      "C=1, Mean AUC=0.906, Std AUC=0.005\n",
      "C=0.001, Mean AUC=0.861, Std AUC=0.002\n",
      "C=1e-06, Mean AUC=0.697, Std AUC=0.007\n",
      "\n",
      "Best C: 1, with Mean AUC: 0.906 and Std AUC: 0.005\n"
     ]
    }
   ],
   "source": [
    "# Sort results by mean_auc (descending), then std_auc (ascending), then by smallest C\n",
    "results_sorted = sorted(results, key=lambda x: (-x[1], x[2], x[0]))\n",
    "\n",
    "# Output the results\n",
    "for C, mean_auc, std_auc in results_sorted:\n",
    "    print(f\"C={C}, Mean AUC={mean_auc:.3f}, Std AUC={std_auc:.3f}\")\n",
    "\n",
    "# Best C based on the criteria\n",
    "best_C, best_mean_auc, best_std_auc = results_sorted[0]\n",
    "print(f\"\\nBest C: {best_C}, with Mean AUC: {best_mean_auc:.3f} and Std AUC: {best_std_auc:.3f}\")"
   ]
  }
 ],
 "metadata": {
  "kernelspec": {
   "display_name": "ml-zoomcamp",
   "language": "python",
   "name": "python3"
  },
  "language_info": {
   "codemirror_mode": {
    "name": "ipython",
    "version": 3
   },
   "file_extension": ".py",
   "mimetype": "text/x-python",
   "name": "python",
   "nbconvert_exporter": "python",
   "pygments_lexer": "ipython3",
   "version": "3.11.9"
  }
 },
 "nbformat": 4,
 "nbformat_minor": 2
}
